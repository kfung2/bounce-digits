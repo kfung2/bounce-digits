{
 "cells": [
  {
   "cell_type": "code",
   "execution_count": 2,
   "metadata": {},
   "outputs": [],
   "source": [
    "import pytorch_lightning as pl\n",
    "from models import *\n",
    "from data.data_classes import *"
   ]
  },
  {
   "cell_type": "code",
   "execution_count": null,
   "metadata": {},
   "outputs": [],
   "source": [
    "save_filepath = \"./plots/bounce_plot3.pdf\""
   ]
  },
  {
   "cell_type": "code",
   "execution_count": null,
   "metadata": {},
   "outputs": [],
   "source": [
    "batch_size = 4\n",
    "\n",
    "num_ctx_frames=1\n",
    "num_tgt_frames=9\n",
    "split_ratio=[0.4, 0.1, 0.5]\n",
    "\n",
    "moving_mnist = TwoColourMovingMNISTDataModule(batch_size,               \n",
    "                                              num_ctx_frames, \n",
    "                                              num_tgt_frames,\n",
    "                                              split_ratio=split_ratio)\n",
    "\n",
    "moving_mnist.setup()\n",
    "train_dl = moving_mnist.train_dataloader()\n",
    "train_ctx_frames, train_tgt_frames = next(iter(train_dl))\n",
    "\n",
    "val_dl = moving_mnist.val_dataloader()\n",
    "val_ctx_frames, val_tgt_frames = next(iter(val_dl))                                              "
   ]
  },
  {
   "cell_type": "markdown",
   "metadata": {},
   "source": [
    "### 3DConvNet models"
   ]
  },
  {
   "cell_type": "code",
   "execution_count": 3,
   "metadata": {},
   "outputs": [],
   "source": [
    "# Experiment 6 (mse)\n",
    "model = ThreeDConv_1to9()\n",
    "model = model.load_from_checkpoint(\"./logs/ThreeDConv_RGB/experiment6/checkpoints/epoch=99-step=25000.ckpt\")"
   ]
  },
  {
   "cell_type": "markdown",
   "metadata": {},
   "source": [
    "### SimVP models"
   ]
  },
  {
   "cell_type": "code",
   "execution_count": null,
   "metadata": {},
   "outputs": [],
   "source": [
    "# Experiment 3 (l1)\n",
    "hid_s=64\n",
    "hid_t=256\n",
    "N_s=4\n",
    "N_t=8\n",
    "kernel_sizes=[3,5,7,11]\n",
    "groups=4\n",
    "\n",
    "channels = 3\n",
    "height = 128\n",
    "width = 128\n",
    "input_shape = (channels, num_ctx_frames, height, width)\n",
    "\n",
    "model = SimVP_1to9(input_shape=input_shape, \n",
    "                   hid_s=hid_s, hid_t=hid_t, \n",
    "                   N_s=N_s, N_t=N_t,\n",
    "                   kernel_sizes=kernel_sizes, \n",
    "                   groups=groups)\n",
    "model = model.load_from_checkpoint(\"./logs/SimVP/experiment3/checkpoints/epoch=99-step=25000.ckpt\")\n",
    "\n",
    "# Experiment 4 (mse)\n",
    "model = SimVP_1to9(input_shape=input_shape, \n",
    "                   hid_s=hid_s, hid_t=hid_t, \n",
    "                   N_s=N_s, N_t=N_t,\n",
    "                   kernel_sizes=kernel_sizes, \n",
    "                   groups=groups)\n",
    "model = model.load_from_checkpoint()\n"
   ]
  },
  {
   "cell_type": "markdown",
   "metadata": {},
   "source": [
    "### PredRNN models\n"
   ]
  },
  {
   "cell_type": "code",
   "execution_count": null,
   "metadata": {},
   "outputs": [],
   "source": []
  },
  {
   "cell_type": "markdown",
   "metadata": {},
   "source": []
  }
 ],
 "metadata": {
  "kernelspec": {
   "display_name": "Python 3.10.5 ('pytorch')",
   "language": "python",
   "name": "python3"
  },
  "language_info": {
   "codemirror_mode": {
    "name": "ipython",
    "version": 3
   },
   "file_extension": ".py",
   "mimetype": "text/x-python",
   "name": "python",
   "nbconvert_exporter": "python",
   "pygments_lexer": "ipython3",
   "version": "3.10.5"
  },
  "orig_nbformat": 4,
  "vscode": {
   "interpreter": {
    "hash": "da4c3a4107fc661dfc1ddc51b98664f856b9baf685ab1745d9fa2472938977d8"
   }
  }
 },
 "nbformat": 4,
 "nbformat_minor": 2
}
