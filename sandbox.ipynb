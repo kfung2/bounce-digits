{
 "cells": [
  {
   "cell_type": "code",
   "execution_count": 1,
   "metadata": {},
   "outputs": [],
   "source": [
    "import torch\n",
    "import torch.nn as nn\n",
    "import numpy as np\n",
    "import matplotlib.pyplot as plt\n",
    "\n",
    "path_to_dir = \"/home/kelvinfung/Documents/bounce-digits/\"\n",
    "\n",
    "import sys\n",
    "sys.path.append(path_to_dir)\n",
    "from models import *\n",
    "from data.data_classes import *"
   ]
  },
  {
   "cell_type": "markdown",
   "metadata": {},
   "source": [
    "## Load data"
   ]
  },
  {
   "cell_type": "code",
   "execution_count": 2,
   "metadata": {},
   "outputs": [],
   "source": [
    "num_context_frames = 5\n",
    "num_target_frames = 5\n",
    "batch_size = 50\n",
    "\n",
    "mnist_module = MovingMNISTDataModule(batch_size, num_context_frames, num_target_frames) \n",
    "mnist_module.setup()"
   ]
  },
  {
   "cell_type": "code",
   "execution_count": 3,
   "metadata": {},
   "outputs": [
    {
     "data": {
      "text/plain": [
       "torch.Size([50, 1, 5, 64, 64])"
      ]
     },
     "execution_count": 3,
     "metadata": {},
     "output_type": "execute_result"
    }
   ],
   "source": [
    "train_dataloader = mnist_module.train_dataloader()\n",
    "for train_x_batch, train_y_batch in train_dataloader:\n",
    "    break\n",
    "\n",
    "train_x_batch.shape  # bs x C x F x H x W"
   ]
  },
  {
   "cell_type": "code",
   "execution_count": 4,
   "metadata": {},
   "outputs": [
    {
     "data": {
      "text/plain": [
       "(array([19210.,    75.,    55.,    60.,    65.,    80.,    85.,    50.,\n",
       "           75.,   725.]),\n",
       " array([0. , 0.1, 0.2, 0.3, 0.4, 0.5, 0.6, 0.7, 0.8, 0.9, 1. ],\n",
       "       dtype=float32),\n",
       " <BarContainer object of 10 artists>)"
      ]
     },
     "execution_count": 4,
     "metadata": {},
     "output_type": "execute_result"
    },
    {
     "data": {
      "image/png": "[encoded data removed]",
      "text/plain": [
       "<Figure size 432x288 with 1 Axes>"
      ]
     },
     "metadata": {
      "needs_background": "light"
     },
     "output_type": "display_data"
    }
   ],
   "source": [
    "plt.hist(train_x_batch[0].flatten())"
   ]
  },
  {
   "cell_type": "markdown",
   "metadata": {},
   "source": [
    "## Test metrics"
   ]
  },
  {
   "cell_type": "code",
   "execution_count": 5,
   "metadata": {},
   "outputs": [],
   "source": [
    "from skimage.metrics import structural_similarity, peak_signal_noise_ratio"
   ]
  },
  {
   "cell_type": "code",
   "execution_count": 6,
   "metadata": {},
   "outputs": [],
   "source": [
    "class PSNR(nn.Module):\n",
    "    def __init__(self) -> None:\n",
    "        super().__init__()\n",
    "\n",
    "    def forward(self, pred_frames, target_frames):\n",
    "        N, C, F, H, W = pred_frames.shape\n",
    "        out = np.zeros((N, F))\n",
    "        for vid_idx in range(N):\n",
    "            for frame_idx in range(F):\n",
    "                psnr = peak_signal_noise_ratio(\n",
    "                    pred_frames[vid_idx, :, frame_idx].numpy(),\n",
    "                    target_frames[vid_idx, :, frame_idx].numpy(),\n",
    "                    data_range=1.0\n",
    "                )\n",
    "                out[vid_idx, frame_idx] = psnr\n",
    "        return out.mean()\n",
    "\n",
    "class SSIM(nn.Module):\n",
    "    def __init__(self) -> None:\n",
    "        super().__init__()\n",
    "\n",
    "    def forward(self, pred_frames, target_frames):\n",
    "        N, C, F, H, W = pred_frames.shape\n",
    "        out = np.zeros((N, F))\n",
    "        for vid_idx in range(N):\n",
    "            for frame_idx in range(F):\n",
    "                ssim = structural_similarity(\n",
    "                    pred_frames[vid_idx, :, frame_idx].numpy().squeeze(),\n",
    "                    target_frames[vid_idx, :, frame_idx].numpy().squeeze(),\n",
    "                    data_range=1.0\n",
    "                )\n",
    "                out[vid_idx, frame_idx] = ssim\n",
    "        return out.mean()"
   ]
  },
  {
   "cell_type": "code",
   "execution_count": 7,
   "metadata": {},
   "outputs": [],
   "source": [
    "vid1, vid2 = train_x_batch, train_y_batch"
   ]
  },
  {
   "cell_type": "code",
   "execution_count": 8,
   "metadata": {},
   "outputs": [
    {
     "name": "stdout",
     "output_type": "stream",
     "text": [
      "psnr: 11.14639784144636\n",
      "ssim: 0.6273911063010392\n"
     ]
    }
   ],
   "source": [
    "psnr = PSNR()\n",
    "ssim = SSIM()\n",
    "print(f'psnr: {psnr(vid1, vid2)}')\n",
    "print(f'ssim: {ssim(vid1, vid2)}')"
   ]
  },
  {
   "cell_type": "code",
   "execution_count": 9,
   "metadata": {},
   "outputs": [
    {
     "name": "stdout",
     "output_type": "stream",
     "text": [
      "psnr: inf\n",
      "ssim: 1.0\n"
     ]
    },
    {
     "name": "stderr",
     "output_type": "stream",
     "text": [
      "/home/kelvinfung/miniconda3/envs/pytorch/lib/python3.10/site-packages/skimage/metrics/simple_metrics.py:163: RuntimeWarning: divide by zero encountered in double_scalars\n",
      "  return 10 * np.log10((data_range ** 2) / err)\n"
     ]
    }
   ],
   "source": [
    "print(f'psnr: {psnr(vid1, vid1)}')\n",
    "print(f'ssim: {ssim(vid1, vid1)}')"
   ]
  },
  {
   "cell_type": "code",
   "execution_count": null,
   "metadata": {},
   "outputs": [],
   "source": []
  }
 ],
 "metadata": {
  "kernelspec": {
   "display_name": "Python 3.10.5 ('pytorch')",
   "language": "python",
   "name": "python3"
  },
  "language_info": {
   "codemirror_mode": {
    "name": "ipython",
    "version": 3
   },
   "file_extension": ".py",
   "mimetype": "text/x-python",
   "name": "python",
   "nbconvert_exporter": "python",
   "pygments_lexer": "ipython3",
   "version": "3.10.5"
  },
  "orig_nbformat": 4,
  "vscode": {
   "interpreter": {
    "hash": "da4c3a4107fc661dfc1ddc51b98664f856b9baf685ab1745d9fa2472938977d8"
   }
  }
 },
 "nbformat": 4,
 "nbformat_minor": 2
}
