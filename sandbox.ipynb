{
 "cells": [
  {
   "cell_type": "code",
   "execution_count": 1,
   "metadata": {},
   "outputs": [],
   "source": [
    "import torch\n",
    "import torch.nn as nn\n",
    "import numpy as np\n",
    "import matplotlib.pyplot as plt\n",
    "\n",
    "path_to_dir = \"/home/kelvinfung/Documents/bounce-digits/\"\n",
    "\n",
    "import sys\n",
    "sys.path.append(path_to_dir)\n",
    "from models import *\n",
    "from data.data_classes import *"
   ]
  },
  {
   "cell_type": "markdown",
   "metadata": {},
   "source": [
    "## Load data"
   ]
  },
  {
   "cell_type": "code",
   "execution_count": 2,
   "metadata": {},
   "outputs": [],
   "source": [
    "num_ctx_frames = 5\n",
    "num_tgt_frames = 5\n",
    "batch_size = 50\n",
    "\n",
    "mnist_module = moving_mnist = TwoColourMovingMNISTDataModule(batch_size,               \n",
    "                                                             num_ctx_frames, \n",
    "                                                             num_tgt_frames,\n",
    "                                                             split_ratio=[0.2, 0.05, 0.75])\n",
    "mnist_module.setup()"
   ]
  },
  {
   "cell_type": "code",
   "execution_count": 3,
   "metadata": {},
   "outputs": [
    {
     "data": {
      "text/plain": [
       "torch.Size([50, 3, 5, 128, 128])"
      ]
     },
     "execution_count": 3,
     "metadata": {},
     "output_type": "execute_result"
    }
   ],
   "source": [
    "train_dataloader = mnist_module.train_dataloader()\n",
    "for train_x_batch, train_y_batch in train_dataloader:\n",
    "    break\n",
    "\n",
    "train_x_batch.shape  # bs x C x F x H x W"
   ]
  },
  {
   "cell_type": "code",
   "execution_count": null,
   "metadata": {},
   "outputs": [],
   "source": []
  },
  {
   "cell_type": "code",
   "execution_count": null,
   "metadata": {},
   "outputs": [],
   "source": []
  },
  {
   "cell_type": "markdown",
   "metadata": {},
   "source": [
    "## Test metrics"
   ]
  },
  {
   "cell_type": "code",
   "execution_count": null,
   "metadata": {},
   "outputs": [],
   "source": [
    "from skimage.metrics import structural_similarity, peak_signal_noise_ratio"
   ]
  },
  {
   "cell_type": "code",
   "execution_count": null,
   "metadata": {},
   "outputs": [],
   "source": [
    "vid1, vid2 = train_x_batch, train_y_batch"
   ]
  },
  {
   "cell_type": "code",
   "execution_count": null,
   "metadata": {},
   "outputs": [],
   "source": [
    "psnr = PSNR()\n",
    "ssim = SSIM()\n",
    "print(f'psnr: {psnr(vid1, vid2)}')\n",
    "print(f'ssim: {ssim(vid1, vid2)}')"
   ]
  },
  {
   "cell_type": "code",
   "execution_count": null,
   "metadata": {},
   "outputs": [],
   "source": [
    "print(f'psnr: {psnr(vid1, vid1)}')\n",
    "print(f'ssim: {ssim(vid1, vid1)}')"
   ]
  },
  {
   "cell_type": "markdown",
   "metadata": {},
   "source": [
    "## Test plotting function"
   ]
  },
  {
   "cell_type": "code",
   "execution_count": null,
   "metadata": {},
   "outputs": [],
   "source": [
    "def make_grid(ctx, tgt, pred, epoch, cmap='gray'):\n",
    "    num_ctx_frames= ctx.shape[1]\n",
    "    num_tgt_frames = tgt.shape[1]\n",
    "\n",
    "    def show_frames(frames, ax, row_label=None):\n",
    "        for i, frame in enumerate(frames):\n",
    "            if cmap is not None:\n",
    "                ax[i].imshow(frame, cmap)\n",
    "            else:\n",
    "                ax[i].imshow(frame)\n",
    "            ax[i].set_xticks([])\n",
    "            ax[i].set_yticks([])\n",
    "\n",
    "        if row_label is not None:\n",
    "            ax[0].set_ylabel(row_label)\n",
    "\n",
    "    ctx_frames = ctx.squeeze().cpu().numpy()\n",
    "    tgt_frames = tgt.squeeze().cpu().numpy()\n",
    "    pred_frames = pred.squeeze().cpu().numpy()\n",
    "\n",
    "    fig, ax = plt.subplots(3, max(num_ctx_frames, num_tgt_frames),\n",
    "                       figsize = (9, 5))\n",
    "    fig.suptitle(f\"EPOCH {epoch}\", y=0.93)\n",
    "    show_frames(ctx_frames, ax[0], \"Context\")\n",
    "    show_frames(tgt_frames, ax[1], \"Target\")\n",
    "    show_frames(pred_frames, ax[2], \"Prediction\")\n",
    "\n",
    "\n",
    "    return fig"
   ]
  },
  {
   "cell_type": "code",
   "execution_count": null,
   "metadata": {},
   "outputs": [],
   "source": [
    "fig = make_grid(train_x_batch[5], train_y_batch[5], train_y_batch[5], 1)"
   ]
  },
  {
   "cell_type": "code",
   "execution_count": null,
   "metadata": {},
   "outputs": [],
   "source": [
    "def fig2rgb_array(fig):\n",
    "    fig.canvas.draw()\n",
    "    buf = fig.canvas.tostring_rgb()\n",
    "    ncols, nrows = fig.canvas.get_width_height()\n",
    "    shp = (nrows, ncols, 3)\n",
    "    return np.frombuffer(buf, dtype=np.uint8).reshape(shp)"
   ]
  },
  {
   "cell_type": "code",
   "execution_count": null,
   "metadata": {},
   "outputs": [],
   "source": [
    "arr = fig2rgb_array(fig)\n",
    "plt.imshow(arr)"
   ]
  },
  {
   "cell_type": "code",
   "execution_count": null,
   "metadata": {},
   "outputs": [],
   "source": [
    "arr.dtype"
   ]
  },
  {
   "cell_type": "code",
   "execution_count": null,
   "metadata": {},
   "outputs": [],
   "source": [
    "from PIL import Image\n",
    "Image.fromarray(arr)"
   ]
  },
  {
   "cell_type": "code",
   "execution_count": null,
   "metadata": {},
   "outputs": [],
   "source": [
    "plt.hist(arr.flatten())"
   ]
  }
 ],
 "metadata": {
  "kernelspec": {
   "display_name": "Python 3.10.5 ('pytorch')",
   "language": "python",
   "name": "python3"
  },
  "language_info": {
   "codemirror_mode": {
    "name": "ipython",
    "version": 3
   },
   "file_extension": ".py",
   "mimetype": "text/x-python",
   "name": "python",
   "nbconvert_exporter": "python",
   "pygments_lexer": "ipython3",
   "version": "3.10.5"
  },
  "orig_nbformat": 4,
  "vscode": {
   "interpreter": {
    "hash": "da4c3a4107fc661dfc1ddc51b98664f856b9baf685ab1745d9fa2472938977d8"
   }
  }
 },
 "nbformat": 4,
 "nbformat_minor": 2
}
