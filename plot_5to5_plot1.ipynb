{
 "cells": [
  {
   "cell_type": "code",
   "execution_count": null,
   "metadata": {},
   "outputs": [],
   "source": [
    "import pytorch_lightning as pl\n",
    "from models import *\n",
    "from data.data_classes import *"
   ]
  },
  {
   "cell_type": "code",
   "execution_count": null,
   "metadata": {},
   "outputs": [],
   "source": [
    "save_filepath = \"./plots/bounce_plot1.pdf\""
   ]
  },
  {
   "cell_type": "code",
   "execution_count": null,
   "metadata": {},
   "outputs": [],
   "source": [
    "batch_size = 4\n",
    "\n",
    "num_ctx_frames=5\n",
    "num_tgt_frames=5\n",
    "split_ratio=[0.4, 0.1, 0.5]\n",
    "\n",
    "moving_mnist = TwoColourMovingMNISTDataModule(batch_size,               \n",
    "                                              num_ctx_frames, \n",
    "                                              num_tgt_frames,\n",
    "                                              split_ratio=split_ratio)\n",
    "\n",
    "moving_mnist.setup()\n",
    "train_dl = moving_mnist.train_dataloader()\n",
    "train_ctx_frames, train_tgt_frames = next(iter(train_dl))\n",
    "\n",
    "val_dl = moving_mnist.val_dataloader()\n",
    "val_ctx_frames, val_tgt_frames = next(iter(val_dl))                                              "
   ]
  },
  {
   "cell_type": "markdown",
   "metadata": {},
   "source": [
    "### 3DConvNet models\n"
   ]
  },
  {
   "cell_type": "code",
   "execution_count": null,
   "metadata": {},
   "outputs": [],
   "source": [
    "# # Experiment 1 (skip MSE)\n",
    "# model = ThreeDConv(\"skip\")\n",
    "# model = model.load_from_checkpoint(\"./logs/ThreeDConv_RGB/experiment1/checkpoints/epoch=99-step=25000.ckpt\")\n",
    "\n",
    "# # Experiment 2 (skip L1)\n",
    "# model = ThreeDConv(\"skip\")\n",
    "# model = model.load_from_checkpoint(\"./logs/ThreeDConv_RGB/experiment2/checkpoints/epoch=99-step=25000.ckpt\")\n",
    "\n",
    "# # Experiment 5 (autoreg MSE)\n",
    "# model = ThreeDConvAutoreg(\"autoreg\")\n",
    "# model = model.load_from_checkpoint(\"./logs/ThreeDConv_RGB/experiment5/checkpoints/epoch=99-step=25000.ckpt\")"
   ]
  },
  {
   "cell_type": "markdown",
   "metadata": {},
   "source": [
    "### SimVP models"
   ]
  },
  {
   "cell_type": "code",
   "execution_count": null,
   "metadata": {},
   "outputs": [],
   "source": [
    "# hid_s=64\n",
    "# hid_t=256\n",
    "# N_s=4\n",
    "# N_t=8\n",
    "# kernel_sizes=[3,5,7,11]\n",
    "# groups=4\n",
    "\n",
    "# channels = 3\n",
    "# height = 128\n",
    "# width = 128\n",
    "# input_shape = (channels, num_ctx_frames, height, width)\n",
    "\n",
    "# # Experiment 1  (mse)\n",
    "# model = SimVP(input_shape=input_shape, \n",
    "#               hid_s=hid_s, hid_t=hid_t, \n",
    "#               N_s=N_s, N_t=N_t,\n",
    "#               kernel_sizes=kernel_sizes, \n",
    "#               groups=groups)\n",
    "# model = model.load_from_checkpoint(\"./logs/SimVP/experiment1/checkpoints/epoch=99-step=25000.ckpt\")\n",
    "\n",
    "# # Experiment 2  (l1)\n",
    "# model = SimVP(input_shape=input_shape, \n",
    "#               hid_s=hid_s, hid_t=hid_t, \n",
    "#               N_s=N_s, N_t=N_t,\n",
    "#               kernel_sizes=kernel_sizes, \n",
    "#               groups=groups)\n",
    "# model = model.load_from_checkpoint(\"./logs/SimVP/experiment2/checkpoints/epoch=99-step=25000.ckpt\")"
   ]
  },
  {
   "cell_type": "markdown",
   "metadata": {},
   "source": [
    "### PredRNN Models"
   ]
  },
  {
   "cell_type": "code",
   "execution_count": null,
   "metadata": {},
   "outputs": [],
   "source": [
    "# input_channels=3\n",
    "# num_hidden=[64, 64, 64]\n",
    "# kernel_size=5\n",
    "# stride=1\n",
    "# learning_rate=1e-3\n",
    "\n",
    "# # Experiment 1 (mse)\n",
    "# model = PredRNN(input_channels=input_channels,\n",
    "#                 num_hidden=num_hidden,\n",
    "#                 num_ctx_frames=num_ctx_frames,\n",
    "#                 num_tgt_frames=num_tgt_frames,\n",
    "#                 kernel_size=kernel_size,\n",
    "#                 stride=stride)\n",
    "# model = model.load_from_checkpoint(\"./logs/PredRNN_RGB/experiment1/checkpoints/epoch=99-step=25000.ckpt\")\n",
    "\n",
    "# # Experiment 2 (l1)\n",
    "# model = PredRNN(input_channels=input_channels,\n",
    "#                 num_hidden=num_hidden,\n",
    "#                 num_ctx_frames=num_ctx_frames,\n",
    "#                 num_tgt_frames=num_tgt_frames,\n",
    "#                 kernel_size=kernel_size,\n",
    "#                 stride=stride)\n",
    "# model = model.load_from_checkpoint(\"./logs/PredRNN_RGB/experiment1/checkpoints/epoch=99-step=25000.ckpt\")"
   ]
  },
  {
   "cell_type": "markdown",
   "metadata": {},
   "source": [
    "### Predicted Frames Set 1"
   ]
  },
  {
   "cell_type": "code",
   "execution_count": null,
   "metadata": {},
   "outputs": [],
   "source": [
    "model = ThreeDConv(\"skip\")\n",
    "model = model.load_from_checkpoint(\"./logs/ThreeDConv_RGB/experiment1/checkpoints/epoch=99-step=25000.ckpt\")"
   ]
  },
  {
   "cell_type": "code",
   "execution_count": null,
   "metadata": {},
   "outputs": [],
   "source": [
    "model.eval()\n",
    "model1_pred_frames = model(val_ctx_frames)\n",
    "model1_pred_frames.shape"
   ]
  },
  {
   "cell_type": "markdown",
   "metadata": {},
   "source": [
    "### Predicted Frames Set 2"
   ]
  },
  {
   "cell_type": "code",
   "execution_count": null,
   "metadata": {},
   "outputs": [],
   "source": [
    "# Experiment 2 (skip L1)\n",
    "model = ThreeDConv(\"skip\")\n",
    "model = model.load_from_checkpoint(\"./logs/ThreeDConv_RGB/experiment2/checkpoints/epoch=99-step=25000.ckpt\")"
   ]
  },
  {
   "cell_type": "code",
   "execution_count": null,
   "metadata": {},
   "outputs": [],
   "source": [
    "model2_pred_frames = model(val_ctx_frames)\n",
    "model2_pred_frames.shape"
   ]
  },
  {
   "cell_type": "markdown",
   "metadata": {},
   "source": [
    "### Predicted Frames Set 3"
   ]
  },
  {
   "cell_type": "code",
   "execution_count": null,
   "metadata": {},
   "outputs": [],
   "source": [
    "# Experiment 5 (autoreg MSE)\n",
    "model = ThreeDConvAutoreg()\n",
    "model = model.load_from_checkpoint(\"./logs/ThreeDConv_RGB/experiment5/checkpoints/epoch=99-step=25000.ckpt\")"
   ]
  },
  {
   "cell_type": "code",
   "execution_count": null,
   "metadata": {},
   "outputs": [],
   "source": [
    "model3_pred_frames = model(val_ctx_frames)\n",
    "model3_pred_frames.shape"
   ]
  },
  {
   "cell_type": "markdown",
   "metadata": {},
   "source": [
    "### Predicted Frames Set 4"
   ]
  },
  {
   "cell_type": "code",
   "execution_count": null,
   "metadata": {},
   "outputs": [],
   "source": [
    "# model = PredRNN(input_channels=input_channels,\n",
    "#                 num_hidden=num_hidden,\n",
    "#                 num_ctx_frames=num_ctx_frames,\n",
    "#                 num_tgt_frames=num_tgt_frames,\n",
    "#                 kernel_size=kernel_size,\n",
    "#                 stride=stride)\n",
    "# model = model.load_from_checkpoint(\"./logs/PredRNN_RGB/experiment2/checkpoints/epoch=99-step=25000.ckpt\")"
   ]
  },
  {
   "cell_type": "code",
   "execution_count": null,
   "metadata": {},
   "outputs": [],
   "source": [
    "# model4_pred_frames = model(val_ctx_frames)\n",
    "# model4_pred_frames.shape"
   ]
  },
  {
   "cell_type": "markdown",
   "metadata": {},
   "source": [
    "### Plotting"
   ]
  },
  {
   "cell_type": "code",
   "execution_count": null,
   "metadata": {},
   "outputs": [],
   "source": [
    "def make_thesis_plot(frame_sets, names, plot_width, plot_height):\n",
    "\n",
    "    def show_frames(frames, ax, row_label=None):\n",
    "        start_id = 1 if row_label == \"Context\" else 5\n",
    "        for i, frame in enumerate(frames):\n",
    "            ax[i].imshow(frame)\n",
    "            ax[i].set_xticks([])\n",
    "            ax[i].set_yticks([])\n",
    "            ax[i].set_xlabel(f\"t={start_id+i}\")\n",
    "            ax[i].xaxis.set_label_coords(.52, 1.15)\n",
    "\n",
    "        if row_label is not None:\n",
    "            ax[0].set_ylabel(row_label, wrap=True)\n",
    "\n",
    "    fig, ax = plt.subplots(len(frame_sets), 5,\n",
    "                               figsize = (plot_width, plot_height))\n",
    "\n",
    "    for i, frames in enumerate(frame_sets):\n",
    "        frames = frames.squeeze().permute(1, 2, 3, 0).cpu().detach().numpy()\n",
    "        show_frames(frames, ax[i], names[i])\n",
    "    fig.set_facecolor(\"white\")\n",
    "    \n",
    "    return fig"
   ]
  },
  {
   "cell_type": "code",
   "execution_count": null,
   "metadata": {},
   "outputs": [],
   "source": [
    "index = 0\n",
    "plot_width = 8\n",
    "plot_height = 9\n",
    "frame_sets = [val_ctx_frames[index],\n",
    "              val_tgt_frames[index],\n",
    "              model1_pred_frames[index],\n",
    "              model2_pred_frames[index],\n",
    "              model3_pred_frames[index]]\n",
    "\n",
    "names = [\"Context\", \"Target\", \"3DConv-MSE\", \n",
    "         \"3DConv-L1\", \"3DConv-Autoregressive-MSE\"]\n",
    "# names = [\"SimVP-MSE\", \"SimVP-L1\"]               \n",
    "make_thesis_plot(frame_sets, names, plot_width, plot_height)"
   ]
  },
  {
   "cell_type": "code",
   "execution_count": null,
   "metadata": {},
   "outputs": [],
   "source": [
    "plt.savefig(save_filepath)"
   ]
  },
  {
   "cell_type": "code",
   "execution_count": null,
   "metadata": {},
   "outputs": [],
   "source": []
  }
 ],
 "metadata": {
  "kernelspec": {
   "display_name": "Python 3.10.5 ('pytorch')",
   "language": "python",
   "name": "python3"
  },
  "language_info": {
   "codemirror_mode": {
    "name": "ipython",
    "version": 3
   },
   "file_extension": ".py",
   "mimetype": "text/x-python",
   "name": "python",
   "nbconvert_exporter": "python",
   "pygments_lexer": "ipython3",
   "version": "3.10.5"
  },
  "orig_nbformat": 4,
  "vscode": {
   "interpreter": {
    "hash": "da4c3a4107fc661dfc1ddc51b98664f856b9baf685ab1745d9fa2472938977d8"
   }
  }
 },
 "nbformat": 4,
 "nbformat_minor": 2
}
